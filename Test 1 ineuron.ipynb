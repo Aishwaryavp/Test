{
 "cells": [
  {
   "cell_type": "markdown",
   "id": "e25e5003",
   "metadata": {},
   "source": [
    "#                            Pyhton Questions"
   ]
  },
  {
   "cell_type": "markdown",
   "id": "82086683",
   "metadata": {},
   "source": [
    "Python Q1)Write an efficient algorithm that searches for a value target in an m x n integer matrix. This matrix has the following properties:\n",
    "\n",
    "1.Integers in each row are sorted from right to left.\n",
    "\n",
    "2.The first integer of each row is greater than the last integer of the previous row.\n",
    "\n",
    " Example-: \n",
    "\n",
    "Input: matrix = [[1,3,5,7],[10,11,16,20],[23,30,34,60]], target = 3\n",
    "Output: True"
   ]
  },
  {
   "cell_type": "code",
   "execution_count": 6,
   "id": "9a38b165",
   "metadata": {},
   "outputs": [
    {
     "name": "stdout",
     "output_type": "stream",
     "text": [
      "True\n"
     ]
    }
   ],
   "source": [
    "#1) Answer\n",
    "def search_matrix(matrix, target):\n",
    "\n",
    "    rows = len(matrix)\n",
    "    cols = len(matrix[0])\n",
    "\n",
    "    row = 0\n",
    "    col = cols - 1  # Start from the top-right corner\n",
    "\n",
    "    while row < rows and col >= 0:\n",
    "        if matrix[row][col] == target:\n",
    "            return True\n",
    "\n",
    "        # Move left if target is smaller than current element\n",
    "        if target < matrix[row][col]:\n",
    "            col -= 1\n",
    "\n",
    "        # Move down if target is larger than or equal to current element (exploiting the row-wise sorting property)\n",
    "        else:\n",
    "            row += 1\n",
    "\n",
    "    return False\n",
    "# for example \n",
    "matrix = [\n",
    "    [1, 3, 5, 7],\n",
    "    [10, 11, 16, 20],\n",
    "    [23, 30, 34, 60]\n",
    "]\n",
    "target = 3\n",
    "\n",
    "output = search_matrix(matrix, target)\n",
    "print(output)\n"
   ]
  },
  {
   "cell_type": "markdown",
   "id": "9c9f355e",
   "metadata": {},
   "source": [
    "Python Q2).  Write a program that takes a string as input, and counts the frequency of each word in the string, there might  be repeated characters in the string. Your task is to find the highest frequency and returns the length of the  highest-frequency word. \n",
    "\n",
    "Note - You have to write at least 2 additional test cases in which your program will run successfully and provide  an explanation for the same.  \n",
    "\n",
    "Example input - string = “write write write all the number from from from 1 to 100” \n",
    "\n",
    "Example output - 5 \n",
    "\n",
    "Explanation - From the given string we can note that the most frequent words are “write” and “from” and  the maximum value of both the values is “write” and its corresponding length is 5"
   ]
  },
  {
   "cell_type": "code",
   "execution_count": 24,
   "id": "a579e13f",
   "metadata": {},
   "outputs": [
    {
     "name": "stdout",
     "output_type": "stream",
     "text": [
      "Input: write write write all the number from from from 1 to 100\n",
      "Output:highest frequency word's length is 5\n",
      "\n",
      "Input: hello world hello hello world\n",
      "Output:highest frequency word's length is 5\n",
      "\n",
      "Input: apple banana apple banana orange apple\n",
      "Output:highest frequency word's length is 5\n",
      "\n"
     ]
    }
   ],
   "source": [
    "def highest_frequency_word_length(string):\n",
    "\n",
    "    word_counts = {}\n",
    "    words = string.split()\n",
    "\n",
    "    for word in words:\n",
    "        word_counts[word] = word_counts.get(word, 0) + 1\n",
    "\n",
    "    max_frequency = max(word_counts.values())\n",
    "    highest_frequency_words = [word for word, count in word_counts.items() if count == max_frequency]\n",
    "\n",
    "    return len(highest_frequency_words[0])  # Return the length of the first highest-frequency word\n",
    "\n",
    "# Test cases\n",
    "test_cases = [\n",
    "    (\"write write write all the number from from from 1 to 100\"),  # Example input\n",
    "    (\"hello world hello hello world\"),  # Test case 1\n",
    "    (\"apple banana apple banana orange apple\"),  # Test case 2\n",
    "]\n",
    "\n",
    "for string in test_cases:\n",
    "    output = highest_frequency_word_length(string)\n",
    "    print(f\"Input: {string}\\nOutput:highest frequency word's length is {output}\\n\")\n",
    "\n"
   ]
  },
  {
   "cell_type": "markdown",
   "id": "c6adba54",
   "metadata": {},
   "source": [
    "# --------------------------------------------------------------------- \n",
    "# Machine Learning"
   ]
  },
  {
   "cell_type": "markdown",
   "id": "18d3708a",
   "metadata": {},
   "source": [
    " Question: 1\n",
    "\n",
    "1. Imagine you have a dataset where you have different Instagram features like Username , Caption , Hashtag , Followers , Time_Since_posted , and likes , now your task is to predict the number of likes and Time Since posted and the rest of the features are your input features. Now you have to build a model which can predict the number of likes and Time Since posted. \n",
    "Dataset This is the Dataset You can use this dataset for this question. "
   ]
  },
  {
   "cell_type": "code",
   "execution_count": 75,
   "id": "0ce9a6aa",
   "metadata": {},
   "outputs": [],
   "source": [
    "import pandas as pd\n",
    "from sklearn.model_selection import train_test_split\n",
    "from sklearn.impute import SimpleImputer\n",
    "from sklearn.preprocessing import StandardScaler, OneHotEncoder\n",
    "from sklearn.linear_model import LinearRegression  \n",
    "from sklearn.metrics import mean_squared_error, r2_score"
   ]
  },
  {
   "cell_type": "code",
   "execution_count": 82,
   "id": "9efeafdc",
   "metadata": {},
   "outputs": [
    {
     "data": {
      "text/html": [
       "<div>\n",
       "<style scoped>\n",
       "    .dataframe tbody tr th:only-of-type {\n",
       "        vertical-align: middle;\n",
       "    }\n",
       "\n",
       "    .dataframe tbody tr th {\n",
       "        vertical-align: top;\n",
       "    }\n",
       "\n",
       "    .dataframe thead th {\n",
       "        text-align: right;\n",
       "    }\n",
       "</style>\n",
       "<table border=\"1\" class=\"dataframe\">\n",
       "  <thead>\n",
       "    <tr style=\"text-align: right;\">\n",
       "      <th></th>\n",
       "      <th>Unnamed: 0</th>\n",
       "      <th>S.No</th>\n",
       "      <th>USERNAME</th>\n",
       "      <th>Caption</th>\n",
       "      <th>Followers</th>\n",
       "      <th>Hashtags</th>\n",
       "      <th>Time since posted</th>\n",
       "      <th>Likes</th>\n",
       "    </tr>\n",
       "  </thead>\n",
       "  <tbody>\n",
       "    <tr>\n",
       "      <th>0</th>\n",
       "      <td>0</td>\n",
       "      <td>1</td>\n",
       "      <td>mikequindazzi</td>\n",
       "      <td>Who are #DataScientist and what do they do? &gt;&gt;...</td>\n",
       "      <td>1600</td>\n",
       "      <td>#MachineLearning #AI #DataAnalytics #DataScien...</td>\n",
       "      <td>11 hours</td>\n",
       "      <td>139</td>\n",
       "    </tr>\n",
       "    <tr>\n",
       "      <th>1</th>\n",
       "      <td>1</td>\n",
       "      <td>2</td>\n",
       "      <td>drgorillapaints</td>\n",
       "      <td>We all know where it’s going. We just have to ...</td>\n",
       "      <td>880</td>\n",
       "      <td>#deck .#mac #macintosh#sayhello #apple #steve...</td>\n",
       "      <td>2 hours</td>\n",
       "      <td>23</td>\n",
       "    </tr>\n",
       "    <tr>\n",
       "      <th>2</th>\n",
       "      <td>2</td>\n",
       "      <td>3</td>\n",
       "      <td>aitrading_official</td>\n",
       "      <td>Alexander Barinov: 4 years as CFO in multinati...</td>\n",
       "      <td>255</td>\n",
       "      <td>#whoiswho #aitrading #ai #aitradingteam#instat...</td>\n",
       "      <td>2 hours</td>\n",
       "      <td>25</td>\n",
       "    </tr>\n",
       "  </tbody>\n",
       "</table>\n",
       "</div>"
      ],
      "text/plain": [
       "   Unnamed: 0  S.No            USERNAME  \\\n",
       "0           0     1       mikequindazzi   \n",
       "1           1     2     drgorillapaints   \n",
       "2           2     3  aitrading_official   \n",
       "\n",
       "                                             Caption  Followers  \\\n",
       "0  Who are #DataScientist and what do they do? >>...       1600   \n",
       "1  We all know where it’s going. We just have to ...        880   \n",
       "2  Alexander Barinov: 4 years as CFO in multinati...        255   \n",
       "\n",
       "                                            Hashtags Time since posted  Likes  \n",
       "0  #MachineLearning #AI #DataAnalytics #DataScien...          11 hours    139  \n",
       "1   #deck .#mac #macintosh#sayhello #apple #steve...           2 hours     23  \n",
       "2  #whoiswho #aitrading #ai #aitradingteam#instat...           2 hours     25  "
      ]
     },
     "execution_count": 82,
     "metadata": {},
     "output_type": "execute_result"
    }
   ],
   "source": [
    "df= pd.read_csv(\"instagram_reach.csv\")\n",
    "df.head(3)"
   ]
  },
  {
   "cell_type": "code",
   "execution_count": 83,
   "id": "9cc77910",
   "metadata": {},
   "outputs": [
    {
     "data": {
      "text/html": [
       "<div>\n",
       "<style scoped>\n",
       "    .dataframe tbody tr th:only-of-type {\n",
       "        vertical-align: middle;\n",
       "    }\n",
       "\n",
       "    .dataframe tbody tr th {\n",
       "        vertical-align: top;\n",
       "    }\n",
       "\n",
       "    .dataframe thead th {\n",
       "        text-align: right;\n",
       "    }\n",
       "</style>\n",
       "<table border=\"1\" class=\"dataframe\">\n",
       "  <thead>\n",
       "    <tr style=\"text-align: right;\">\n",
       "      <th></th>\n",
       "      <th>USERNAME</th>\n",
       "      <th>Caption</th>\n",
       "      <th>Followers</th>\n",
       "      <th>Hashtags</th>\n",
       "      <th>Time since posted</th>\n",
       "      <th>Likes</th>\n",
       "    </tr>\n",
       "  </thead>\n",
       "  <tbody>\n",
       "    <tr>\n",
       "      <th>0</th>\n",
       "      <td>mikequindazzi</td>\n",
       "      <td>Who are #DataScientist and what do they do? &gt;&gt;...</td>\n",
       "      <td>1600</td>\n",
       "      <td>#MachineLearning #AI #DataAnalytics #DataScien...</td>\n",
       "      <td>11 hours</td>\n",
       "      <td>139</td>\n",
       "    </tr>\n",
       "  </tbody>\n",
       "</table>\n",
       "</div>"
      ],
      "text/plain": [
       "        USERNAME                                            Caption  \\\n",
       "0  mikequindazzi  Who are #DataScientist and what do they do? >>...   \n",
       "\n",
       "   Followers                                           Hashtags  \\\n",
       "0       1600  #MachineLearning #AI #DataAnalytics #DataScien...   \n",
       "\n",
       "  Time since posted  Likes  \n",
       "0          11 hours    139  "
      ]
     },
     "execution_count": 83,
     "metadata": {},
     "output_type": "execute_result"
    }
   ],
   "source": [
    "df=df.drop([\"Unnamed: 0\", \"S.No\"], axis=1)\n",
    "df.head(1)"
   ]
  },
  {
   "cell_type": "code",
   "execution_count": 56,
   "id": "6dda02c6",
   "metadata": {},
   "outputs": [
    {
     "data": {
      "text/plain": [
       "(100, 6)"
      ]
     },
     "execution_count": 56,
     "metadata": {},
     "output_type": "execute_result"
    }
   ],
   "source": [
    "df.shape"
   ]
  },
  {
   "cell_type": "code",
   "execution_count": 57,
   "id": "0af996c1",
   "metadata": {},
   "outputs": [
    {
     "data": {
      "text/plain": [
       "USERNAME             0\n",
       "Caption              6\n",
       "Followers            0\n",
       "Hashtags             0\n",
       "Time since posted    0\n",
       "Likes                0\n",
       "dtype: int64"
      ]
     },
     "execution_count": 57,
     "metadata": {},
     "output_type": "execute_result"
    }
   ],
   "source": [
    "df.isnull().sum()"
   ]
  },
  {
   "cell_type": "code",
   "execution_count": 58,
   "id": "f520c7dd",
   "metadata": {},
   "outputs": [],
   "source": [
    "df['Caption'].fillna('', inplace=True)"
   ]
  },
  {
   "cell_type": "code",
   "execution_count": 59,
   "id": "44b54e03",
   "metadata": {},
   "outputs": [
    {
     "data": {
      "text/plain": [
       "0"
      ]
     },
     "execution_count": 59,
     "metadata": {},
     "output_type": "execute_result"
    }
   ],
   "source": [
    "df.isnull().sum().sum()"
   ]
  },
  {
   "cell_type": "code",
   "execution_count": 63,
   "id": "fb349158",
   "metadata": {},
   "outputs": [
    {
     "data": {
      "text/plain": [
       "0"
      ]
     },
     "execution_count": 63,
     "metadata": {},
     "output_type": "execute_result"
    }
   ],
   "source": [
    "df.duplicated().sum()"
   ]
  },
  {
   "cell_type": "code",
   "execution_count": 64,
   "id": "b8cfc725",
   "metadata": {},
   "outputs": [
    {
     "data": {
      "text/html": [
       "<div>\n",
       "<style scoped>\n",
       "    .dataframe tbody tr th:only-of-type {\n",
       "        vertical-align: middle;\n",
       "    }\n",
       "\n",
       "    .dataframe tbody tr th {\n",
       "        vertical-align: top;\n",
       "    }\n",
       "\n",
       "    .dataframe thead th {\n",
       "        text-align: right;\n",
       "    }\n",
       "</style>\n",
       "<table border=\"1\" class=\"dataframe\">\n",
       "  <thead>\n",
       "    <tr style=\"text-align: right;\">\n",
       "      <th></th>\n",
       "      <th>USERNAME</th>\n",
       "      <th>Caption</th>\n",
       "      <th>Followers</th>\n",
       "      <th>Hashtags</th>\n",
       "      <th>Time since posted</th>\n",
       "      <th>Likes</th>\n",
       "    </tr>\n",
       "  </thead>\n",
       "  <tbody>\n",
       "    <tr>\n",
       "      <th>23</th>\n",
       "      <td>64</td>\n",
       "      <td>11</td>\n",
       "      <td>93</td>\n",
       "      <td>6</td>\n",
       "      <td>2</td>\n",
       "      <td>3</td>\n",
       "    </tr>\n",
       "    <tr>\n",
       "      <th>94</th>\n",
       "      <td>76</td>\n",
       "      <td>94</td>\n",
       "      <td>3</td>\n",
       "      <td>63</td>\n",
       "      <td>5</td>\n",
       "      <td>15</td>\n",
       "    </tr>\n",
       "    <tr>\n",
       "      <th>17</th>\n",
       "      <td>4</td>\n",
       "      <td>56</td>\n",
       "      <td>42</td>\n",
       "      <td>19</td>\n",
       "      <td>6</td>\n",
       "      <td>31</td>\n",
       "    </tr>\n",
       "    <tr>\n",
       "      <th>28</th>\n",
       "      <td>75</td>\n",
       "      <td>24</td>\n",
       "      <td>31</td>\n",
       "      <td>5</td>\n",
       "      <td>6</td>\n",
       "      <td>30</td>\n",
       "    </tr>\n",
       "    <tr>\n",
       "      <th>80</th>\n",
       "      <td>66</td>\n",
       "      <td>93</td>\n",
       "      <td>14</td>\n",
       "      <td>79</td>\n",
       "      <td>2</td>\n",
       "      <td>18</td>\n",
       "    </tr>\n",
       "  </tbody>\n",
       "</table>\n",
       "</div>"
      ],
      "text/plain": [
       "    USERNAME  Caption  Followers  Hashtags  Time since posted  Likes\n",
       "23        64       11         93         6                  2      3\n",
       "94        76       94          3        63                  5     15\n",
       "17         4       56         42        19                  6     31\n",
       "28        75       24         31         5                  6     30\n",
       "80        66       93         14        79                  2     18"
      ]
     },
     "execution_count": 64,
     "metadata": {},
     "output_type": "execute_result"
    }
   ],
   "source": [
    "from sklearn.preprocessing import LabelEncoder\n",
    "\n",
    "Le = LabelEncoder()\n",
    "\n",
    "# Assuming df is your DataFrame\n",
    "for column in df.columns:\n",
    "    df[column] = Le.fit_transform(df[column])\n",
    "df.sample(5)"
   ]
  },
  {
   "cell_type": "code",
   "execution_count": 73,
   "id": "10b35ca5",
   "metadata": {},
   "outputs": [],
   "source": [
    "X = df[[\"USERNAME\", \"Caption\", \"Hashtags\", \"Followers\"]]  # Input features\n",
    "y_likes = df[\"Likes\"]  # Target variable for likes prediction\n",
    "y_time = df[\"Time since posted\"]  # Target variable for time prediction\n",
    "\n",
    "X_train, X_test, y_likes_train, y_likes_test, y_time_train, y_time_test = train_test_split(X, y_likes, y_time, test_size=0.2, random_state=42)\n"
   ]
  },
  {
   "cell_type": "code",
   "execution_count": 77,
   "id": "56e6a17c",
   "metadata": {},
   "outputs": [
    {
     "name": "stdout",
     "output_type": "stream",
     "text": [
      "Mean Squared Error (Likes): 173.63346939931424\n",
      "R-squared (Likes): 0.10566208990940262\n"
     ]
    }
   ],
   "source": [
    "# Create and train the model for likes prediction\n",
    "likes_model = LinearRegression()\n",
    "likes_model.fit(X_train, y_likes_train)\n",
    "\n",
    "# Make predictions on the testing set\n",
    "y_likes_predicted = likes_model.predict(X_test)\n",
    "\n",
    "# Evaluate performance\n",
    "mse_likes = mean_squared_error(y_likes_test, y_likes_predicted)\n",
    "r2_likes = r2_score(y_likes_test, y_likes_predicted)\n",
    "print(\"Mean Squared Error (Likes):\", mse_likes)\n",
    "print(\"R-squared (Likes):\", r2_likes)\n"
   ]
  },
  {
   "cell_type": "code",
   "execution_count": 81,
   "id": "df009794",
   "metadata": {},
   "outputs": [
    {
     "data": {
      "text/plain": [
       "array([15.62867873, 13.73326155, 22.69622353, 15.82613044, 15.26842612,\n",
       "       16.61940681, 20.97326427, 17.60276543, 14.93749615, 18.63378492,\n",
       "       14.86950097, 21.21335426, 19.35291224, 18.62064545, 19.15385718,\n",
       "       17.49497132, 15.50821462, 20.55645601, 23.01057966, 15.17703292])"
      ]
     },
     "execution_count": 81,
     "metadata": {},
     "output_type": "execute_result"
    }
   ],
   "source": [
    "from sklearn.svm import SVR\n",
    "\n",
    "svm_model = SVR() \n",
    "svm_model.fit(X_train, y_likes_train)\n",
    "y_likes_predicted = svm_model.predict(X_test)\n",
    "\n",
    "y_likes_predicted"
   ]
  },
  {
   "cell_type": "markdown",
   "id": "e49a31e1",
   "metadata": {},
   "source": [
    "."
   ]
  },
  {
   "cell_type": "markdown",
   "id": "ce47329a",
   "metadata": {},
   "source": [
    "Q 2.1)Explain how you can implement ML in a real world application."
   ]
  },
  {
   "cell_type": "markdown",
   "id": "f2735952",
   "metadata": {},
   "source": [
    "Answer)\n",
    "\n",
    "1. Problem Identification and Data Gathering:\n",
    "\n",
    "Define the problem: Clearly articulate the specific business or user problem you aim to solve with ML.\n",
    "Collect relevant data: Gather historical data that captures patterns and relationships essential for prediction or decision-making. Ensure data quality and relevance.\n",
    "\n",
    "2. Data Preparation and Preprocessing:\n",
    "\n",
    "Clean and preprocess data: Address missing values, outliers, inconsistencies, and format data appropriately for model training.\n",
    "Feature engineering: Create new features or transform existing ones to enhance informativeness and model performance.\n",
    "Split data: Divide data into training, validation, and testing sets for model development and evaluation.\n",
    "\n",
    "3. Model Selection and Training:\n",
    "\n",
    "Choose an appropriate ML algorithm: Select a suitable algorithm based on the problem type (e.g., classification, regression, clustering), data characteristics, and desired outcomes.\n",
    "Train the model: Feed the training data into the chosen algorithm to learn patterns and relationships.\n",
    "Tune hyperparameters: Adjust model settings to optimize performance on the validation set.\n",
    "\n",
    "4. Evaluation and Refinement:\n",
    "\n",
    "Evaluate performance: Use metrics like accuracy, precision, recall, F1-score, or mean squared error to assess the model's performance on the testing set.\n",
    "Refine the model: If performance is unsatisfactory, consider feature engineering, hyperparameter tuning, algorithm selection, or collecting more data.\n",
    "\n",
    "5. Deployment and Integration:\n",
    "\n",
    "Deploy the model: Integrate the trained model into the application or system for real-time predictions or decisions.\n",
    "Monitor performance: Continuously track model performance and retrain as needed to maintain accuracy and adapt to changes in data patterns."
   ]
  },
  {
   "cell_type": "markdown",
   "id": "e193d637",
   "metadata": {},
   "source": [
    "."
   ]
  },
  {
   "cell_type": "markdown",
   "id": "687600cf",
   "metadata": {},
   "source": [
    "\n",
    "Q2.2) Train an SVM regressor on : Bengaluru housing dataset\n",
    "\n",
    "Must include in details:\n",
    " - EDA\n",
    " - Feature engineering "
   ]
  },
  {
   "cell_type": "code",
   "execution_count": 161,
   "id": "3e29d054",
   "metadata": {},
   "outputs": [],
   "source": [
    "import pandas as pd\n",
    "import numpy as np\n",
    "import matplotlib.pyplot as plt\n",
    "import seaborn as sns\n",
    "from sklearn.model_selection import train_test_split\n",
    "from sklearn.svm import SVR\n",
    "from sklearn.metrics import mean_squared_error\n",
    "from sklearn.preprocessing import StandardScaler"
   ]
  },
  {
   "cell_type": "code",
   "execution_count": 132,
   "id": "4e30daf4",
   "metadata": {},
   "outputs": [
    {
     "data": {
      "text/html": [
       "<div>\n",
       "<style scoped>\n",
       "    .dataframe tbody tr th:only-of-type {\n",
       "        vertical-align: middle;\n",
       "    }\n",
       "\n",
       "    .dataframe tbody tr th {\n",
       "        vertical-align: top;\n",
       "    }\n",
       "\n",
       "    .dataframe thead th {\n",
       "        text-align: right;\n",
       "    }\n",
       "</style>\n",
       "<table border=\"1\" class=\"dataframe\">\n",
       "  <thead>\n",
       "    <tr style=\"text-align: right;\">\n",
       "      <th></th>\n",
       "      <th>area_type</th>\n",
       "      <th>availability</th>\n",
       "      <th>location</th>\n",
       "      <th>size</th>\n",
       "      <th>society</th>\n",
       "      <th>total_sqft</th>\n",
       "      <th>bath</th>\n",
       "      <th>balcony</th>\n",
       "      <th>price</th>\n",
       "    </tr>\n",
       "  </thead>\n",
       "  <tbody>\n",
       "    <tr>\n",
       "      <th>0</th>\n",
       "      <td>Super built-up  Area</td>\n",
       "      <td>19-Dec</td>\n",
       "      <td>Electronic City Phase II</td>\n",
       "      <td>2 BHK</td>\n",
       "      <td>Coomee</td>\n",
       "      <td>1056</td>\n",
       "      <td>2.0</td>\n",
       "      <td>1.0</td>\n",
       "      <td>39.07</td>\n",
       "    </tr>\n",
       "    <tr>\n",
       "      <th>1</th>\n",
       "      <td>Plot  Area</td>\n",
       "      <td>Ready To Move</td>\n",
       "      <td>Chikka Tirupathi</td>\n",
       "      <td>4 Bedroom</td>\n",
       "      <td>Theanmp</td>\n",
       "      <td>2600</td>\n",
       "      <td>5.0</td>\n",
       "      <td>3.0</td>\n",
       "      <td>120.00</td>\n",
       "    </tr>\n",
       "    <tr>\n",
       "      <th>2</th>\n",
       "      <td>Built-up  Area</td>\n",
       "      <td>Ready To Move</td>\n",
       "      <td>Uttarahalli</td>\n",
       "      <td>3 BHK</td>\n",
       "      <td>NaN</td>\n",
       "      <td>1440</td>\n",
       "      <td>2.0</td>\n",
       "      <td>3.0</td>\n",
       "      <td>62.00</td>\n",
       "    </tr>\n",
       "    <tr>\n",
       "      <th>3</th>\n",
       "      <td>Super built-up  Area</td>\n",
       "      <td>Ready To Move</td>\n",
       "      <td>Lingadheeranahalli</td>\n",
       "      <td>3 BHK</td>\n",
       "      <td>Soiewre</td>\n",
       "      <td>1521</td>\n",
       "      <td>3.0</td>\n",
       "      <td>1.0</td>\n",
       "      <td>95.00</td>\n",
       "    </tr>\n",
       "    <tr>\n",
       "      <th>4</th>\n",
       "      <td>Super built-up  Area</td>\n",
       "      <td>Ready To Move</td>\n",
       "      <td>Kothanur</td>\n",
       "      <td>2 BHK</td>\n",
       "      <td>NaN</td>\n",
       "      <td>1200</td>\n",
       "      <td>2.0</td>\n",
       "      <td>1.0</td>\n",
       "      <td>51.00</td>\n",
       "    </tr>\n",
       "  </tbody>\n",
       "</table>\n",
       "</div>"
      ],
      "text/plain": [
       "              area_type   availability                  location       size  \\\n",
       "0  Super built-up  Area         19-Dec  Electronic City Phase II      2 BHK   \n",
       "1            Plot  Area  Ready To Move          Chikka Tirupathi  4 Bedroom   \n",
       "2        Built-up  Area  Ready To Move               Uttarahalli      3 BHK   \n",
       "3  Super built-up  Area  Ready To Move        Lingadheeranahalli      3 BHK   \n",
       "4  Super built-up  Area  Ready To Move                  Kothanur      2 BHK   \n",
       "\n",
       "   society total_sqft  bath  balcony   price  \n",
       "0  Coomee        1056   2.0      1.0   39.07  \n",
       "1  Theanmp       2600   5.0      3.0  120.00  \n",
       "2      NaN       1440   2.0      3.0   62.00  \n",
       "3  Soiewre       1521   3.0      1.0   95.00  \n",
       "4      NaN       1200   2.0      1.0   51.00  "
      ]
     },
     "execution_count": 132,
     "metadata": {},
     "output_type": "execute_result"
    }
   ],
   "source": [
    "df2= pd.read_csv(\"Bengaluru_House_Data.csv\")\n",
    "df2.head(5)"
   ]
  },
  {
   "cell_type": "code",
   "execution_count": 133,
   "id": "bfb0b89b",
   "metadata": {},
   "outputs": [
    {
     "data": {
      "text/plain": [
       "(13320, 9)"
      ]
     },
     "execution_count": 133,
     "metadata": {},
     "output_type": "execute_result"
    }
   ],
   "source": [
    "df2.shape"
   ]
  },
  {
   "cell_type": "code",
   "execution_count": 134,
   "id": "1593b7b7",
   "metadata": {},
   "outputs": [
    {
     "name": "stdout",
     "output_type": "stream",
     "text": [
      "<class 'pandas.core.frame.DataFrame'>\n",
      "RangeIndex: 13320 entries, 0 to 13319\n",
      "Data columns (total 9 columns):\n",
      " #   Column        Non-Null Count  Dtype  \n",
      "---  ------        --------------  -----  \n",
      " 0   area_type     13320 non-null  object \n",
      " 1   availability  13320 non-null  object \n",
      " 2   location      13319 non-null  object \n",
      " 3   size          13304 non-null  object \n",
      " 4   society       7818 non-null   object \n",
      " 5   total_sqft    13320 non-null  object \n",
      " 6   bath          13247 non-null  float64\n",
      " 7   balcony       12711 non-null  float64\n",
      " 8   price         13320 non-null  float64\n",
      "dtypes: float64(3), object(6)\n",
      "memory usage: 936.7+ KB\n"
     ]
    }
   ],
   "source": [
    "df2.info()"
   ]
  },
  {
   "cell_type": "code",
   "execution_count": 137,
   "id": "730bc1af",
   "metadata": {},
   "outputs": [
    {
     "data": {
      "text/plain": [
       "529"
      ]
     },
     "execution_count": 137,
     "metadata": {},
     "output_type": "execute_result"
    }
   ],
   "source": [
    "df2.duplicated().sum()"
   ]
  },
  {
   "cell_type": "code",
   "execution_count": 138,
   "id": "b9b21610",
   "metadata": {},
   "outputs": [
    {
     "data": {
      "text/plain": [
       "area_type          0\n",
       "availability       0\n",
       "location           1\n",
       "size              16\n",
       "society         5502\n",
       "total_sqft         0\n",
       "bath              73\n",
       "balcony          609\n",
       "price              0\n",
       "dtype: int64"
      ]
     },
     "execution_count": 138,
     "metadata": {},
     "output_type": "execute_result"
    }
   ],
   "source": [
    "df2.isnull().sum()"
   ]
  },
  {
   "cell_type": "markdown",
   "id": "2c360f82",
   "metadata": {},
   "source": [
    "Majorly missing values are in society, balcony, bath, size and location. We can drop society column as too many missing values\n",
    "\n"
   ]
  },
  {
   "cell_type": "code",
   "execution_count": 127,
   "id": "84bb9bc6",
   "metadata": {},
   "outputs": [
    {
     "name": "stdout",
     "output_type": "stream",
     "text": [
      "Super built-up  Area    8790\n",
      "Built-up  Area          2418\n",
      "Plot  Area              2025\n",
      "Carpet  Area              87\n",
      "Name: area_type, dtype: int64\n",
      "********************\n",
      "Ready To Move    10581\n",
      "18-Dec             307\n",
      "18-May             295\n",
      "18-Apr             271\n",
      "18-Aug             200\n",
      "                 ...  \n",
      "16-Nov               1\n",
      "16-Jul               1\n",
      "17-Jan               1\n",
      "14-Jul               1\n",
      "15-Jun               1\n",
      "Name: availability, Length: 81, dtype: int64\n",
      "********************\n",
      "Whitefield                    540\n",
      "Sarjapur  Road                399\n",
      "Electronic City               302\n",
      "Kanakpura Road                273\n",
      "Thanisandra                   234\n",
      "                             ... \n",
      "Vijaya Bank Colony              1\n",
      "Yemlur, Old Airport Road,       1\n",
      "Akash Nagar                     1\n",
      "RMC YARD                        1\n",
      "Sathanur                        1\n",
      "Name: location, Length: 1305, dtype: int64\n",
      "********************\n",
      "2 BHK         5199\n",
      "3 BHK         4310\n",
      "4 Bedroom      826\n",
      "4 BHK          591\n",
      "3 Bedroom      547\n",
      "1 BHK          538\n",
      "2 Bedroom      329\n",
      "5 Bedroom      297\n",
      "6 Bedroom      191\n",
      "1 Bedroom      105\n",
      "8 Bedroom       84\n",
      "7 Bedroom       83\n",
      "5 BHK           59\n",
      "9 Bedroom       46\n",
      "6 BHK           30\n",
      "7 BHK           17\n",
      "1 RK            13\n",
      "10 Bedroom      12\n",
      "9 BHK            8\n",
      "8 BHK            5\n",
      "11 Bedroom       2\n",
      "10 BHK           2\n",
      "11 BHK           2\n",
      "16 BHK           1\n",
      "43 Bedroom       1\n",
      "18 Bedroom       1\n",
      "14 BHK           1\n",
      "27 BHK           1\n",
      "13 BHK           1\n",
      "12 Bedroom       1\n",
      "19 BHK           1\n",
      "Name: size, dtype: int64\n",
      "********************\n",
      "GrrvaGr    80\n",
      "PrarePa    76\n",
      "Sryalan    59\n",
      "Prtates    59\n",
      "GMown E    56\n",
      "           ..\n",
      "VaireSo     1\n",
      "Viconth     1\n",
      "Vetanan     1\n",
      "Duoveoo     1\n",
      "P num P     1\n",
      "Name: society, Length: 2688, dtype: int64\n",
      "********************\n",
      "1200         843\n",
      "1100         221\n",
      "1500         205\n",
      "2400         196\n",
      "600          180\n",
      "            ... \n",
      "4694           1\n",
      "1379           1\n",
      "2423           1\n",
      "3005           1\n",
      "684 - 810      1\n",
      "Name: total_sqft, Length: 2117, dtype: int64\n",
      "********************\n",
      "2.0     6908\n",
      "3.0     3286\n",
      "4.0     1226\n",
      "1.0      788\n",
      "5.0      524\n",
      "6.0      273\n",
      "7.0      102\n",
      "8.0       64\n",
      "9.0       43\n",
      "10.0      13\n",
      "12.0       7\n",
      "11.0       3\n",
      "13.0       3\n",
      "16.0       2\n",
      "14.0       1\n",
      "40.0       1\n",
      "18.0       1\n",
      "27.0       1\n",
      "15.0       1\n",
      "Name: bath, dtype: int64\n",
      "********************\n",
      "2.0    5113\n",
      "1.0    4897\n",
      "3.0    1672\n",
      "0.0    1029\n",
      "Name: balcony, dtype: int64\n",
      "********************\n",
      "75.00     310\n",
      "65.00     302\n",
      "55.00     275\n",
      "60.00     270\n",
      "45.00     240\n",
      "         ... \n",
      "45.69       1\n",
      "85.41       1\n",
      "91.31       1\n",
      "102.92      1\n",
      "62.28       1\n",
      "Name: price, Length: 1994, dtype: int64\n",
      "********************\n"
     ]
    }
   ],
   "source": [
    "for col in df2.columns:\n",
    "    print(df2[col].value_counts())\n",
    "    print(\"*\"*20)"
   ]
  },
  {
   "cell_type": "code",
   "execution_count": 153,
   "id": "2fc4d6d5",
   "metadata": {},
   "outputs": [
    {
     "data": {
      "text/html": [
       "<div>\n",
       "<style scoped>\n",
       "    .dataframe tbody tr th:only-of-type {\n",
       "        vertical-align: middle;\n",
       "    }\n",
       "\n",
       "    .dataframe tbody tr th {\n",
       "        vertical-align: top;\n",
       "    }\n",
       "\n",
       "    .dataframe thead th {\n",
       "        text-align: right;\n",
       "    }\n",
       "</style>\n",
       "<table border=\"1\" class=\"dataframe\">\n",
       "  <thead>\n",
       "    <tr style=\"text-align: right;\">\n",
       "      <th></th>\n",
       "      <th>bath</th>\n",
       "      <th>balcony</th>\n",
       "      <th>price</th>\n",
       "      <th>total_sqft_numeric</th>\n",
       "    </tr>\n",
       "  </thead>\n",
       "  <tbody>\n",
       "    <tr>\n",
       "      <th>count</th>\n",
       "      <td>7337.000000</td>\n",
       "      <td>7337.000000</td>\n",
       "      <td>7337.000000</td>\n",
       "      <td>7337.000000</td>\n",
       "    </tr>\n",
       "    <tr>\n",
       "      <th>mean</th>\n",
       "      <td>2.454545</td>\n",
       "      <td>1.662532</td>\n",
       "      <td>96.875385</td>\n",
       "      <td>1505.075226</td>\n",
       "    </tr>\n",
       "    <tr>\n",
       "      <th>std</th>\n",
       "      <td>0.861693</td>\n",
       "      <td>0.753620</td>\n",
       "      <td>105.686651</td>\n",
       "      <td>930.802964</td>\n",
       "    </tr>\n",
       "    <tr>\n",
       "      <th>min</th>\n",
       "      <td>1.000000</td>\n",
       "      <td>0.000000</td>\n",
       "      <td>8.000000</td>\n",
       "      <td>11.000000</td>\n",
       "    </tr>\n",
       "    <tr>\n",
       "      <th>25%</th>\n",
       "      <td>2.000000</td>\n",
       "      <td>1.000000</td>\n",
       "      <td>50.000000</td>\n",
       "      <td>1120.000000</td>\n",
       "    </tr>\n",
       "    <tr>\n",
       "      <th>50%</th>\n",
       "      <td>2.000000</td>\n",
       "      <td>2.000000</td>\n",
       "      <td>70.000000</td>\n",
       "      <td>1310.000000</td>\n",
       "    </tr>\n",
       "    <tr>\n",
       "      <th>75%</th>\n",
       "      <td>3.000000</td>\n",
       "      <td>2.000000</td>\n",
       "      <td>105.000000</td>\n",
       "      <td>1655.000000</td>\n",
       "    </tr>\n",
       "    <tr>\n",
       "      <th>max</th>\n",
       "      <td>9.000000</td>\n",
       "      <td>3.000000</td>\n",
       "      <td>2700.000000</td>\n",
       "      <td>36000.000000</td>\n",
       "    </tr>\n",
       "  </tbody>\n",
       "</table>\n",
       "</div>"
      ],
      "text/plain": [
       "              bath      balcony        price  total_sqft_numeric\n",
       "count  7337.000000  7337.000000  7337.000000         7337.000000\n",
       "mean      2.454545     1.662532    96.875385         1505.075226\n",
       "std       0.861693     0.753620   105.686651          930.802964\n",
       "min       1.000000     0.000000     8.000000           11.000000\n",
       "25%       2.000000     1.000000    50.000000         1120.000000\n",
       "50%       2.000000     2.000000    70.000000         1310.000000\n",
       "75%       3.000000     2.000000   105.000000         1655.000000\n",
       "max       9.000000     3.000000  2700.000000        36000.000000"
      ]
     },
     "execution_count": 153,
     "metadata": {},
     "output_type": "execute_result"
    }
   ],
   "source": [
    "df2.describe()"
   ]
  },
  {
   "cell_type": "code",
   "execution_count": 155,
   "id": "1d3fb994",
   "metadata": {},
   "outputs": [
    {
     "data": {
      "image/png": "[encoded data removed]",
      "text/plain": [
       "<Figure size 864x432 with 1 Axes>"
      ]
     },
     "metadata": {
      "needs_background": "light"
     },
     "output_type": "display_data"
    }
   ],
   "source": [
    "# Visualize the distribution of the target variable (price)\n",
    "plt.figure(figsize=(12, 6))\n",
    "sns.histplot(df2['price'], bins=50, kde=True)\n",
    "plt.title('Distribution of Price')\n",
    "plt.show()"
   ]
  },
  {
   "cell_type": "code",
   "execution_count": 157,
   "id": "5e186af9",
   "metadata": {},
   "outputs": [
    {
     "data": {
      "image/png": "[encoded data removed]",
      "text/plain": [
       "<Figure size 540x540 with 12 Axes>"
      ]
     },
     "metadata": {
      "needs_background": "light"
     },
     "output_type": "display_data"
    }
   ],
   "source": [
    "# Visualize relationships between numerical features and the target variable\n",
    "sns.pairplot(df2[['total_sqft', 'bath', 'balcony', 'price']])\n",
    "plt.show()"
   ]
  },
  {
   "cell_type": "code",
   "execution_count": 159,
   "id": "d6d7355d",
   "metadata": {},
   "outputs": [
    {
     "data": {
      "image/png": "[encoded data removed]",
      "text/plain": [
       "<Figure size 432x288 with 1 Axes>"
      ]
     },
     "metadata": {
      "needs_background": "light"
     },
     "output_type": "display_data"
    }
   ],
   "source": [
    "# Visualize relationships between categorical features and the target variable\n",
    "sns.boxplot(x='area_type', y='price', data=df2)\n",
    "plt.xticks(rotation=45)\n",
    "plt.title('Area Type vs. Price')\n",
    "plt.show()"
   ]
  },
  {
   "cell_type": "code",
   "execution_count": 160,
   "id": "8a32bde5",
   "metadata": {},
   "outputs": [
    {
     "data": {
      "image/png": "[encoded data removed]",
      "text/plain": [
       "<Figure size 432x288 with 2 Axes>"
      ]
     },
     "metadata": {
      "needs_background": "light"
     },
     "output_type": "display_data"
    }
   ],
   "source": [
    "# Drop unnecessary columns\n",
    "data = df2.drop(['availability', 'location', 'society'], axis=1)\n",
    "\n",
    "# Convert categorical variables into numerical using one-hot encoding\n",
    "data = pd.get_dummies(data, columns=['area_type'], drop_first=True)\n",
    "\n",
    "# Handle missing values\n",
    "data['bath'].fillna(data['bath'].median(), inplace=True)\n",
    "data['balcony'].fillna(data['balcony'].median(), inplace=True)\n",
    "\n",
    "# Check the correlation matrix\n",
    "correlation_matrix = data.corr()\n",
    "sns.heatmap(correlation_matrix, annot=True, cmap='coolwarm')\n",
    "plt.title('Correlation Matrix')\n",
    "plt.show()\n"
   ]
  },
  {
   "cell_type": "code",
   "execution_count": 166,
   "id": "572729b5",
   "metadata": {},
   "outputs": [],
   "source": [
    "# Split the data into features and target variable\n",
    "data['size'] = data['size'].apply(lambda x: int(x.split(' ')[0]) if isinstance(x, str) else x)\n",
    "\n",
    "X = data.drop('price', axis=1)\n",
    "y = data['price']\n",
    "\n",
    "# Split the dataset into training and testing sets\n",
    "X_train, X_test, y_train, y_test = train_test_split(X, y, test_size=0.2, random_state=42)"
   ]
  },
  {
   "cell_type": "code",
   "execution_count": 167,
   "id": "c25daf58",
   "metadata": {},
   "outputs": [],
   "source": [
    "# Standardize features\n",
    "scaler = StandardScaler()\n",
    "X_train_scaled = scaler.fit_transform(X_train)\n",
    "X_test_scaled = scaler.transform(X_test)\n"
   ]
  },
  {
   "cell_type": "code",
   "execution_count": 169,
   "id": "d35e8fdf",
   "metadata": {},
   "outputs": [
    {
     "name": "stdout",
     "output_type": "stream",
     "text": [
      "Mean Squared Error: 11616.038082881889\n",
      "R-squared: 0.1015710117522125\n"
     ]
    }
   ],
   "source": [
    "# Train the SVM regressor\n",
    "svm_regressor = SVR(kernel='linear')\n",
    "svm_regressor.fit(X_train_scaled, y_train)\n",
    "\n",
    "# Make predictions\n",
    "y_pred = svm_regressor.predict(X_test_scaled)\n",
    "\n",
    "# Evaluate the model\n",
    "mse = mean_squared_error(y_test, y_pred)\n",
    "print(f'Mean Squared Error: {mse}')\n",
    "# Calculate R-squared\n",
    "r_squared = svm_regressor.score(X_test_scaled, y_test)\n",
    "print(f'R-squared: {r_squared}')\n"
   ]
  },
  {
   "cell_type": "code",
   "execution_count": null,
   "id": "87baf2ac",
   "metadata": {},
   "outputs": [],
   "source": []
  },
  {
   "cell_type": "code",
   "execution_count": null,
   "id": "9a69147c",
   "metadata": {},
   "outputs": [],
   "source": []
  },
  {
   "cell_type": "code",
   "execution_count": null,
   "id": "e92dfc10",
   "metadata": {},
   "outputs": [],
   "source": []
  }
 ],
 "metadata": {
  "kernelspec": {
   "display_name": "Python 3",
   "language": "python",
   "name": "python3"
  },
  "language_info": {
   "codemirror_mode": {
    "name": "ipython",
    "version": 3
   },
   "file_extension": ".py",
   "mimetype": "text/x-python",
   "name": "python",
   "nbconvert_exporter": "python",
   "pygments_lexer": "ipython3",
   "version": "3.8.8"
  }
 },
 "nbformat": 4,
 "nbformat_minor": 5
}
